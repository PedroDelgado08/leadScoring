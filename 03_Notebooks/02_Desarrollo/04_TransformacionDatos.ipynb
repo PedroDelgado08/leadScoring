{
 "cells": [
  {
   "cell_type": "markdown",
   "id": "d31dea65",
   "metadata": {},
   "source": [
    "# TRANSFORMACIÓN DE DATOS"
   ]
  },
  {
   "cell_type": "markdown",
   "id": "swiss-fault",
   "metadata": {},
   "source": [
    "## IMPORTAR PAQUETES"
   ]
  },
  {
   "cell_type": "code",
   "execution_count": 1,
   "id": "adjacent-toddler",
   "metadata": {},
   "outputs": [],
   "source": [
    "import numpy as np\n",
    "import pandas as pd\n",
    "import matplotlib.pyplot as plt\n",
    "%matplotlib inline\n",
    "from sklearn.preprocessing import OneHotEncoder\n",
    "from sklearn.preprocessing import OrdinalEncoder\n",
    "from sklearn.preprocessing import LabelEncoder\n",
    "from category_encoders import TargetEncoder\n",
    "from sklearn.preprocessing import KBinsDiscretizer\n",
    "from sklearn.preprocessing import Binarizer\n",
    "from sklearn.preprocessing import PowerTransformer\n",
    "from sklearn.preprocessing import QuantileTransformer\n",
    "from sklearn.feature_extraction.text import CountVectorizer\n",
    "from sklearn.feature_extraction.text import TfidfVectorizer\n",
    "from sklearn.preprocessing import MinMaxScaler\n",
    "from sklearn.preprocessing import StandardScaler\n",
    "from sklearn.preprocessing import RobustScaler\n",
    "from sklearn.preprocessing import MaxAbsScaler\n",
    "from imblearn.under_sampling import RandomUnderSampler\n",
    "from imblearn.over_sampling import RandomOverSampler\n",
    "\n",
    "#Automcompletar rápido\n",
    "%config IPCompleter.greedy=True"
   ]
  },
  {
   "cell_type": "markdown",
   "id": "graduate-compensation",
   "metadata": {},
   "source": [
    "## IMPORTAR LOS DATOS"
   ]
  },
  {
   "cell_type": "markdown",
   "id": "3a5b94ef",
   "metadata": {},
   "source": [
    "1.- Sustituir la ruta del proyecto."
   ]
  },
  {
   "cell_type": "code",
   "execution_count": 4,
   "id": "f9d2de58",
   "metadata": {},
   "outputs": [],
   "source": [
    "ruta_proyecto = 'C:/Users/User/Desktop/DS4B/03_MACHINE_LEARNING/08_CASOS/01_leadScoring'"
   ]
  },
  {
   "cell_type": "markdown",
   "id": "c3363765",
   "metadata": {},
   "source": [
    "2.- Nombrar los ficheros de datos."
   ]
  },
  {
   "cell_type": "code",
   "execution_count": 3,
   "id": "a9e2e04a",
   "metadata": {},
   "outputs": [],
   "source": [
    "nombre_cat = 'cat_resultado_eda.pickle'\n",
    "nombre_num = 'num_resultado_eda.pickle'"
   ]
  },
  {
   "cell_type": "markdown",
   "id": "b9825018",
   "metadata": {},
   "source": [
    "3.- Cargar los datos."
   ]
  },
  {
   "cell_type": "code",
   "execution_count": 5,
   "id": "cab6ebcd",
   "metadata": {},
   "outputs": [],
   "source": [
    "cat = pd.read_pickle(ruta_proyecto + '/02_Datos/03_Trabajo/' + nombre_cat)\n",
    "num = pd.read_pickle(ruta_proyecto + '/02_Datos/03_Trabajo/' + nombre_num)"
   ]
  },
  {
   "cell_type": "markdown",
   "id": "a1350902",
   "metadata": {},
   "source": [
    "4.- Separar la target."
   ]
  },
  {
   "cell_type": "code",
   "execution_count": 7,
   "id": "095b0ef2",
   "metadata": {},
   "outputs": [],
   "source": [
    "target = num[['compra']].copy().reset_index(drop=True)"
   ]
  },
  {
   "cell_type": "markdown",
   "id": "9790d322",
   "metadata": {},
   "source": [
    "## TRANSFORMACIÓN DE CATEGÓRICAS"
   ]
  },
  {
   "cell_type": "markdown",
   "id": "f1fa5201",
   "metadata": {},
   "source": [
    "### One Hot Encoding"
   ]
  },
  {
   "cell_type": "markdown",
   "id": "da9b786a",
   "metadata": {},
   "source": [
    "#### Variables a aplicar OHE"
   ]
  },
  {
   "cell_type": "code",
   "execution_count": 15,
   "id": "6e36cf47",
   "metadata": {},
   "outputs": [],
   "source": [
    "var_ohe = cat.columns.to_list()"
   ]
  },
  {
   "cell_type": "markdown",
   "id": "db8d4634",
   "metadata": {},
   "source": [
    "#### Instanciar"
   ]
  },
  {
   "cell_type": "code",
   "execution_count": 16,
   "id": "e75c2ee4",
   "metadata": {},
   "outputs": [],
   "source": [
    "ohe = OneHotEncoder(sparse_output= False, handle_unknown='ignore')"
   ]
  },
  {
   "cell_type": "markdown",
   "id": "26c9f58f",
   "metadata": {},
   "source": [
    "#### Entrenar y aplicar"
   ]
  },
  {
   "cell_type": "code",
   "execution_count": 17,
   "id": "4162d5a7",
   "metadata": {},
   "outputs": [],
   "source": [
    "cat_ohe = ohe.fit_transform(cat[var_ohe])"
   ]
  },
  {
   "cell_type": "markdown",
   "id": "c9131f15",
   "metadata": {},
   "source": [
    "#### Guardar como dataframe"
   ]
  },
  {
   "cell_type": "code",
   "execution_count": 18,
   "id": "783255d7",
   "metadata": {},
   "outputs": [],
   "source": [
    "cat_ohe = pd.DataFrame(cat_ohe, columns = ohe.get_feature_names_out())"
   ]
  },
  {
   "cell_type": "markdown",
   "id": "ec6bd31a",
   "metadata": {},
   "source": [
    "## TRANSFORMACIÓN DE NUMÉRICAS"
   ]
  },
  {
   "cell_type": "markdown",
   "id": "87434e0c",
   "metadata": {},
   "source": [
    "## UNIFICAR DATASETS TRANSFORMADOS"
   ]
  },
  {
   "cell_type": "code",
   "execution_count": 22,
   "id": "945deb6d",
   "metadata": {},
   "outputs": [],
   "source": [
    "df = pd.concat([cat_ohe, num.reset_index()], axis=1).set_index('id')"
   ]
  },
  {
   "cell_type": "markdown",
   "id": "5f9ffae2",
   "metadata": {},
   "source": [
    "## REESCALAR VARIABLES"
   ]
  },
  {
   "cell_type": "markdown",
   "id": "fbc62831",
   "metadata": {},
   "source": [
    "### Con Min-Max"
   ]
  },
  {
   "cell_type": "code",
   "execution_count": 23,
   "id": "c35ea0a2",
   "metadata": {},
   "outputs": [
    {
     "name": "stdout",
     "output_type": "stream",
     "text": [
      "<class 'pandas.core.frame.DataFrame'>\n",
      "Index: 4812 entries, 660737 to 579533\n",
      "Data columns (total 43 columns):\n",
      " #   Column                                    Non-Null Count  Dtype  \n",
      "---  ------                                    --------------  -----  \n",
      " 0   origen_API                                4812 non-null   float64\n",
      " 1   origen_Landing Page Submission            4812 non-null   float64\n",
      " 2   origen_Lead Add Form                      4812 non-null   float64\n",
      " 3   origen_OTROS                              4812 non-null   float64\n",
      " 4   fuente_Chat                               4812 non-null   float64\n",
      " 5   fuente_Direct Traffic                     4812 non-null   float64\n",
      " 6   fuente_Google                             4812 non-null   float64\n",
      " 7   fuente_OTROS                              4812 non-null   float64\n",
      " 8   fuente_Organic Search                     4812 non-null   float64\n",
      " 9   fuente_Reference                          4812 non-null   float64\n",
      " 10  ult_actividad_Chat Conversation           4812 non-null   float64\n",
      " 11  ult_actividad_Converted to Lead           4812 non-null   float64\n",
      " 12  ult_actividad_Email Link Clicked          4812 non-null   float64\n",
      " 13  ult_actividad_Email Opened                4812 non-null   float64\n",
      " 14  ult_actividad_OTROS                       4812 non-null   float64\n",
      " 15  ult_actividad_Page Visited on Website     4812 non-null   float64\n",
      " 16  ult_actividad_SMS Sent                    4812 non-null   float64\n",
      " 17  ambito_Banking, Investment And Insurance  4812 non-null   float64\n",
      " 18  ambito_Business Administration            4812 non-null   float64\n",
      " 19  ambito_Finance Management                 4812 non-null   float64\n",
      " 20  ambito_Healthcare Management              4812 non-null   float64\n",
      " 21  ambito_Human Resource Management          4812 non-null   float64\n",
      " 22  ambito_IT Projects Management             4812 non-null   float64\n",
      " 23  ambito_International Business             4812 non-null   float64\n",
      " 24  ambito_Marketing Management               4812 non-null   float64\n",
      " 25  ambito_Media and Advertising              4812 non-null   float64\n",
      " 26  ambito_OTROS                              4812 non-null   float64\n",
      " 27  ambito_Operations Management              4812 non-null   float64\n",
      " 28  ambito_Select                             4812 non-null   float64\n",
      " 29  ambito_Supply Chain Management            4812 non-null   float64\n",
      " 30  ambito_Travel and Tourism                 4812 non-null   float64\n",
      " 31  ocupacion_OTROS                           4812 non-null   float64\n",
      " 32  ocupacion_Student                         4812 non-null   float64\n",
      " 33  ocupacion_Unemployed                      4812 non-null   float64\n",
      " 34  ocupacion_Working Professional            4812 non-null   float64\n",
      " 35  descarga_lm_No                            4812 non-null   float64\n",
      " 36  descarga_lm_Yes                           4812 non-null   float64\n",
      " 37  compra                                    4812 non-null   int64  \n",
      " 38  visitas_total                             4812 non-null   Int64  \n",
      " 39  tiempo_en_site_total                      4812 non-null   int64  \n",
      " 40  paginas_vistas_visita                     4812 non-null   float64\n",
      " 41  score_actividad                           4812 non-null   float64\n",
      " 42  score_perfil                              4812 non-null   float64\n",
      "dtypes: Int64(1), float64(40), int64(2)\n",
      "memory usage: 1.6 MB\n"
     ]
    }
   ],
   "source": [
    "df.info()"
   ]
  },
  {
   "cell_type": "markdown",
   "id": "de92d3fe",
   "metadata": {},
   "source": [
    "#### Variables a reescalar con Min-Max"
   ]
  },
  {
   "cell_type": "code",
   "execution_count": 31,
   "id": "cea06383",
   "metadata": {},
   "outputs": [
    {
     "data": {
      "text/plain": [
       "Index(['visitas_total', 'tiempo_en_site_total', 'paginas_vistas_visita',\n",
       "       'score_actividad', 'score_perfil'],\n",
       "      dtype='object')"
      ]
     },
     "execution_count": 31,
     "metadata": {},
     "output_type": "execute_result"
    }
   ],
   "source": [
    "num.iloc[:, 1:].columns"
   ]
  },
  {
   "cell_type": "code",
   "execution_count": 32,
   "id": "4c9e40ba",
   "metadata": {},
   "outputs": [],
   "source": [
    "var_mms = num.iloc[:, 1:].columns"
   ]
  },
  {
   "cell_type": "markdown",
   "id": "b0b18ca7",
   "metadata": {},
   "source": [
    "#### Instanciar"
   ]
  },
  {
   "cell_type": "code",
   "execution_count": 34,
   "id": "b7abd721",
   "metadata": {},
   "outputs": [
    {
     "data": {
      "text/plain": [
       "Index(['visitas_total', 'tiempo_en_site_total', 'paginas_vistas_visita',\n",
       "       'score_actividad', 'score_perfil'],\n",
       "      dtype='object')"
      ]
     },
     "execution_count": 34,
     "metadata": {},
     "output_type": "execute_result"
    }
   ],
   "source": [
    "var_mms"
   ]
  },
  {
   "cell_type": "code",
   "execution_count": 33,
   "id": "44a71f10",
   "metadata": {},
   "outputs": [],
   "source": [
    "mms = MinMaxScaler()"
   ]
  },
  {
   "cell_type": "markdown",
   "id": "57f8f537",
   "metadata": {},
   "source": [
    "#### Entrenar y aplicar"
   ]
  },
  {
   "cell_type": "code",
   "execution_count": 35,
   "id": "b45d4fa8",
   "metadata": {},
   "outputs": [],
   "source": [
    "df_mms = mms.fit_transform(df[var_mms])"
   ]
  },
  {
   "cell_type": "markdown",
   "id": "aea83d81",
   "metadata": {},
   "source": [
    "#### Guardar como dataframe"
   ]
  },
  {
   "cell_type": "code",
   "execution_count": 36,
   "id": "d5ba3f86",
   "metadata": {},
   "outputs": [],
   "source": [
    "#Añadir sufijos a los nombres\n",
    "nombres_mms = [variable + '_mms' for variable in var_mms]\n",
    "\n",
    "#Guardar como dataframe\n",
    "df_mms = pd.DataFrame(df_mms,columns = nombres_mms)"
   ]
  },
  {
   "cell_type": "markdown",
   "id": "118dac36",
   "metadata": {},
   "source": [
    "## UNIFICAR DATASETS REESCALADOS"
   ]
  },
  {
   "cell_type": "markdown",
   "id": "47b69bce",
   "metadata": {},
   "source": [
    "### Unir todos los dataframes en el tablón analítico"
   ]
  },
  {
   "cell_type": "code",
   "execution_count": 45,
   "id": "6665288d",
   "metadata": {},
   "outputs": [],
   "source": [
    "df_tablon = pd.concat([cat_ohe, df_mms, target, df.reset_index().id], axis=1).set_index('id')"
   ]
  },
  {
   "cell_type": "markdown",
   "id": "9f098f8a",
   "metadata": {},
   "source": [
    "## GUARDAR DATASET TRAS TRANSFORMACIÓN DE DATOS"
   ]
  },
  {
   "cell_type": "markdown",
   "id": "7656ba95",
   "metadata": {},
   "source": [
    "En formato pickle para no perder las modificaciones de metadatos."
   ]
  },
  {
   "cell_type": "code",
   "execution_count": 46,
   "id": "782bf43c",
   "metadata": {},
   "outputs": [],
   "source": [
    "#Definir los nombres del archivo\n",
    "ruta_df_tablon = ruta_proyecto + '/02_Datos/03_Trabajo/' + 'df_tablon.pickle'"
   ]
  },
  {
   "cell_type": "code",
   "execution_count": 47,
   "id": "44c7dd60",
   "metadata": {},
   "outputs": [],
   "source": [
    "#Guardar los archivos\n",
    "df_tablon.to_pickle(ruta_df_tablon)"
   ]
  },
  {
   "cell_type": "code",
   "execution_count": null,
   "id": "13674293",
   "metadata": {},
   "outputs": [],
   "source": []
  }
 ],
 "metadata": {
  "kernelspec": {
   "display_name": "proyecto1",
   "language": "python",
   "name": "python3"
  },
  "language_info": {
   "codemirror_mode": {
    "name": "ipython",
    "version": 3
   },
   "file_extension": ".py",
   "mimetype": "text/x-python",
   "name": "python",
   "nbconvert_exporter": "python",
   "pygments_lexer": "ipython3",
   "version": "3.11.11"
  },
  "toc": {
   "base_numbering": 1,
   "nav_menu": {},
   "number_sections": true,
   "sideBar": true,
   "skip_h1_title": false,
   "title_cell": "Table of Contents",
   "title_sidebar": "Contents",
   "toc_cell": false,
   "toc_position": {
    "height": "calc(100% - 180px)",
    "left": "10px",
    "top": "150px",
    "width": "346.95px"
   },
   "toc_section_display": true,
   "toc_window_display": true
  },
  "varInspector": {
   "cols": {
    "lenName": 16,
    "lenType": 16,
    "lenVar": 40
   },
   "kernels_config": {
    "python": {
     "delete_cmd_postfix": "",
     "delete_cmd_prefix": "del ",
     "library": "var_list.py",
     "varRefreshCmd": "print(var_dic_list())"
    },
    "r": {
     "delete_cmd_postfix": ") ",
     "delete_cmd_prefix": "rm(",
     "library": "var_list.r",
     "varRefreshCmd": "cat(var_dic_list()) "
    }
   },
   "position": {
    "height": "546.85px",
    "left": "890.75px",
    "right": "20px",
    "top": "117px",
    "width": "350px"
   },
   "types_to_exclude": [
    "module",
    "function",
    "builtin_function_or_method",
    "instance",
    "_Feature"
   ],
   "window_display": false
  }
 },
 "nbformat": 4,
 "nbformat_minor": 5
}
