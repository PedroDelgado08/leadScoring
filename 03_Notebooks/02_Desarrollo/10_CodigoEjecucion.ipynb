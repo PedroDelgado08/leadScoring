{
 "cells": [
  {
   "cell_type": "markdown",
   "id": "c7f65e25",
   "metadata": {},
   "source": [
    "# CODIGO DE EJECUCION"
   ]
  },
  {
   "cell_type": "markdown",
   "id": "73a0f588",
   "metadata": {},
   "source": [
    "*NOTA: Para poder usar este código de ejecución hay que lanzarlo desde exactamente el mismo entorno en el que fue creado.*\n",
    "\n",
    "*Se puede instalar ese entorno en la nueva máquina usando el environment.yml que creamos en el set up del proyecto*\n",
    "\n",
    "*Copiar el proyecto1.yml al directorio y en el terminal o anaconda prompt ejecutar:*\n",
    "\n",
    "conda env create --file proyecto1.yml --name proyecto1"
   ]
  },
  {
   "cell_type": "code",
   "execution_count": 4,
   "id": "ffe7be80",
   "metadata": {},
   "outputs": [
    {
     "name": "stderr",
     "output_type": "stream",
     "text": [
      "C:\\Users\\User\\AppData\\Local\\Temp\\ipykernel_9480\\295134843.py:63: FutureWarning: A value is trying to be set on a copy of a DataFrame or Series through chained assignment using an inplace method.\n",
      "The behavior will change in pandas 3.0. This inplace method will never work because the intermediate object on which we are setting values always behaves as a copy.\n",
      "\n",
      "For example, when doing 'df[col].method(value, inplace=True)', try using 'df.method({col: value}, inplace=True)' or df[col] = df[col].method(value) instead, to perform the operation inplace on the original object.\n",
      "\n",
      "\n"
     ]
    }
   ],
   "source": [
    "import cloudpickle\n",
    "import pandas as pd\n",
    "\n",
    "\n",
    "ruta_proyecto = 'C:/Users/User/Desktop/DS4B/03_MACHINE_LEARNING/08_CASOS/01_leadScoring'\n",
    "\n",
    "nombre_fichero_datos = 'validacion.csv'\n",
    "\n",
    "ruta_completa = ruta_proyecto + '/02_Datos/02_Validacion/' + nombre_fichero_datos\n",
    "\n",
    "df = pd.read_csv(ruta_completa,index_col='id', delimiter=',')\n",
    "              \n",
    "df.drop_duplicates(inplace = True)\n",
    "\n",
    "df = df.loc[\n",
    "    (df.no_llamar != 'OTROS') & \n",
    "    (df.no_enviar_email != 'Yes') & \n",
    "    (df.ult_actividad != 'Email Bounced')\n",
    "    ]\n",
    "\n",
    "variables_finales = ['ambito',\n",
    "                   'descarga_lm',\n",
    "                   'ocupacion',\n",
    "                   'paginas_vistas_visita',\n",
    "                   'score_actividad',\n",
    "                   'score_perfil',\n",
    "                   'tiempo_en_site_total',\n",
    "                   'ult_actividad',\n",
    "                   'visitas_total',\n",
    "                  ]\n",
    "                     \n",
    "df = df[variables_finales]\n",
    "\n",
    "nombre_pipe_ejecucion = 'pipe_ejecucion.pickle'\n",
    "\n",
    "ruta_pipe_ejecucion = ruta_proyecto + '/04_Modelos/' + nombre_pipe_ejecucion\n",
    "\n",
    "with open(ruta_pipe_ejecucion, mode='rb') as file:\n",
    "   pipe_ejecucion = cloudpickle.load(file)\n",
    "\n",
    "scoring = pipe_ejecucion.predict_proba(df)[:, 1]"
   ]
  },
  {
   "cell_type": "code",
   "execution_count": 5,
   "id": "c55ae2cb",
   "metadata": {},
   "outputs": [
    {
     "data": {
      "text/plain": [
       "array([0.44344682, 0.57564021, 0.11030885, ..., 0.71686973, 0.11370061,\n",
       "       0.46986261])"
      ]
     },
     "execution_count": 5,
     "metadata": {},
     "output_type": "execute_result"
    }
   ],
   "source": [
    "scoring"
   ]
  },
  {
   "cell_type": "code",
   "execution_count": null,
   "id": "694bb197",
   "metadata": {},
   "outputs": [],
   "source": []
  }
 ],
 "metadata": {
  "kernelspec": {
   "display_name": "proyecto1",
   "language": "python",
   "name": "python3"
  },
  "language_info": {
   "codemirror_mode": {
    "name": "ipython",
    "version": 3
   },
   "file_extension": ".py",
   "mimetype": "text/x-python",
   "name": "python",
   "nbconvert_exporter": "python",
   "pygments_lexer": "ipython3",
   "version": "3.11.11"
  },
  "toc": {
   "base_numbering": 1,
   "nav_menu": {},
   "number_sections": true,
   "sideBar": true,
   "skip_h1_title": false,
   "title_cell": "Table of Contents",
   "title_sidebar": "Contents",
   "toc_cell": false,
   "toc_position": {},
   "toc_section_display": true,
   "toc_window_display": true
  },
  "varInspector": {
   "cols": {
    "lenName": 16,
    "lenType": 16,
    "lenVar": 40
   },
   "kernels_config": {
    "python": {
     "delete_cmd_postfix": "",
     "delete_cmd_prefix": "del ",
     "library": "var_list.py",
     "varRefreshCmd": "print(var_dic_list())"
    },
    "r": {
     "delete_cmd_postfix": ") ",
     "delete_cmd_prefix": "rm(",
     "library": "var_list.r",
     "varRefreshCmd": "cat(var_dic_list()) "
    }
   },
   "position": {
    "height": "388.85px",
    "left": "1070px",
    "right": "20px",
    "top": "120px",
    "width": "350px"
   },
   "types_to_exclude": [
    "module",
    "function",
    "builtin_function_or_method",
    "instance",
    "_Feature"
   ],
   "window_display": false
  }
 },
 "nbformat": 4,
 "nbformat_minor": 5
}
